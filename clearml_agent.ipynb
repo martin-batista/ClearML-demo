{
 "cells": [
  {
   "cell_type": "markdown",
   "metadata": {
    "id": "mC3A4rio6Y--"
   },
   "source": [
    "# Launch ClearML Agent\n"
   ]
  },
  {
   "cell_type": "markdown",
   "metadata": {
    "id": "EPYjmFLy1zuC"
   },
   "source": [
    "## Step 1: Install all necessary packages"
   ]
  },
  {
   "cell_type": "code",
   "execution_count": null,
   "metadata": {
    "colab": {
     "base_uri": "https://localhost:8080/"
    },
    "execution": {
     "iopub.execute_input": "2022-10-26T11:24:03.080667Z",
     "iopub.status.busy": "2022-10-26T11:24:03.080384Z",
     "iopub.status.idle": "2022-10-26T11:25:33.114750Z",
     "shell.execute_reply": "2022-10-26T11:25:33.113886Z",
     "shell.execute_reply.started": "2022-10-26T11:24:03.080614Z"
    },
    "executionInfo": {
     "elapsed": 17029,
     "status": "ok",
     "timestamp": 1666115072131,
     "user": {
      "displayName": "Martin Batista",
      "userId": "03942874097603512681"
     },
     "user_tz": 180
    },
    "id": "DwFC3fL8JAP3",
    "outputId": "446c4294-e7d9-4ebd-eba6-61890f0fdcc8"
   },
   "outputs": [
    {
     "name": "stdout",
     "output_type": "stream",
     "text": [
      "\u001b[33mWARNING: Running pip as the 'root' user can result in broken permissions and conflicting behaviour with the system package manager. It is recommended to use a virtual environment instead: https://pip.pypa.io/warnings/venv\u001b[0m\u001b[33m\n",
      "\u001b[0m\u001b[33mWARNING: Retrying (Retry(total=4, connect=None, read=None, redirect=None, status=None)) after connection broken by 'NewConnectionError('<pip._vendor.urllib3.connection.HTTPSConnection object at 0x7f9649d7e640>: Failed to establish a new connection: [Errno -3] Temporary failure in name resolution')': /simple/clearml-agent/\u001b[0m\u001b[33m\n",
      "\u001b[0m\u001b[33mWARNING: Retrying (Retry(total=3, connect=None, read=None, redirect=None, status=None)) after connection broken by 'NewConnectionError('<pip._vendor.urllib3.connection.HTTPSConnection object at 0x7f9649d7e970>: Failed to establish a new connection: [Errno -3] Temporary failure in name resolution')': /simple/clearml-agent/\u001b[0m\u001b[33m\n",
      "\u001b[0m\u001b[33mWARNING: Running pip as the 'root' user can result in broken permissions and conflicting behaviour with the system package manager. It is recommended to use a virtual environment instead: https://pip.pypa.io/warnings/venv\u001b[0m\u001b[33m\n",
      "\u001b[0m"
     ]
    }
   ],
   "source": [
    "!pip install clearml -q\n",
    "!pip install clearml-agent -q"
   ]
  },
  {
   "cell_type": "markdown",
   "metadata": {
    "id": "gb41kM8i1-7T"
   },
   "source": [
    "## Step 2: Export this environment variable\n",
    "\n",
    "This environment variable makes Matplotlib work in headless mode, so it won't output graphs to the screen"
   ]
  },
  {
   "cell_type": "code",
   "execution_count": 2,
   "metadata": {
    "execution": {
     "iopub.execute_input": "2022-10-26T11:25:33.116516Z",
     "iopub.status.busy": "2022-10-26T11:25:33.116294Z",
     "iopub.status.idle": "2022-10-26T11:25:33.845336Z",
     "shell.execute_reply": "2022-10-26T11:25:33.844487Z",
     "shell.execute_reply.started": "2022-10-26T11:25:33.116493Z"
    }
   },
   "outputs": [
    {
     "name": "stdout",
     "output_type": "stream",
     "text": [
      "Wed Oct 26 11:25:33 2022       \n",
      "+-----------------------------------------------------------------------------+\n",
      "| NVIDIA-SMI 510.73.05    Driver Version: 510.73.05    CUDA Version: 11.6     |\n",
      "|-------------------------------+----------------------+----------------------+\n",
      "| GPU  Name        Persistence-M| Bus-Id        Disp.A | Volatile Uncorr. ECC |\n",
      "| Fan  Temp  Perf  Pwr:Usage/Cap|         Memory-Usage | GPU-Util  Compute M. |\n",
      "|                               |                      |               MIG M. |\n",
      "|===============================+======================+======================|\n",
      "|   0  NVIDIA RTX A4000    Off  | 00000000:00:05.0 Off |                  Off |\n",
      "| 41%   38C    P8    14W / 140W |      0MiB / 16376MiB |      0%      Default |\n",
      "|                               |                      |                  N/A |\n",
      "+-------------------------------+----------------------+----------------------+\n",
      "                                                                               \n",
      "+-----------------------------------------------------------------------------+\n",
      "| Processes:                                                                  |\n",
      "|  GPU   GI   CI        PID   Type   Process name                  GPU Memory |\n",
      "|        ID   ID                                                   Usage      |\n",
      "|=============================================================================|\n",
      "|  No running processes found                                                 |\n",
      "+-----------------------------------------------------------------------------+\n"
     ]
    }
   ],
   "source": [
    "!nvidia-smi"
   ]
  },
  {
   "cell_type": "code",
   "execution_count": 3,
   "metadata": {
    "execution": {
     "iopub.execute_input": "2022-10-26T11:25:33.848679Z",
     "iopub.status.busy": "2022-10-26T11:25:33.848500Z",
     "iopub.status.idle": "2022-10-26T11:25:34.421222Z",
     "shell.execute_reply": "2022-10-26T11:25:34.420173Z",
     "shell.execute_reply.started": "2022-10-26T11:25:33.848656Z"
    },
    "executionInfo": {
     "elapsed": 21,
     "status": "ok",
     "timestamp": 1666115072132,
     "user": {
      "displayName": "Martin Batista",
      "userId": "03942874097603512681"
     },
     "user_tz": 180
    },
    "id": "3-Bm4811VMLK"
   },
   "outputs": [],
   "source": [
    "! export MPLBACKEND=TkAg"
   ]
  },
  {
   "cell_type": "markdown",
   "metadata": {
    "id": "chuUzBaU2NyB"
   },
   "source": [
    "## Step 3: Create new credentials: \n",
    "1. Go to your [ClearML WebApp **Settings**](https://app.clear.ml/settings/workspace-configuration). \n",
    "1. Under the **WORKSPACES** section, go to **App Credentials**, and click **+ Create new credentials**\n",
    "1. Copy your credentials"
   ]
  },
  {
   "cell_type": "markdown",
   "metadata": {
    "id": "1Kloxwfj0Vnq"
   },
   "source": [
    "## Step 4: Set your ClearML Credentials\n",
    "\n",
    "Insert the credentials you created in Step 3. \n",
    "\n",
    "If you aren't using the ClearML hosted server, make sure to modify the server variables. "
   ]
  },
  {
   "cell_type": "code",
   "execution_count": 5,
   "metadata": {
    "execution": {
     "iopub.execute_input": "2022-10-26T11:25:34.428199Z",
     "iopub.status.busy": "2022-10-26T11:25:34.428024Z",
     "iopub.status.idle": "2022-10-26T11:25:35.009373Z",
     "shell.execute_reply": "2022-10-26T11:25:35.008656Z",
     "shell.execute_reply.started": "2022-10-26T11:25:34.428182Z"
    },
    "executionInfo": {
     "elapsed": 2477,
     "status": "ok",
     "timestamp": 1666115075815,
     "user": {
      "displayName": "Martin Batista",
      "userId": "03942874097603512681"
     },
     "user_tz": 180
    },
    "id": "YBPdmP4sJHnQ"
   },
   "outputs": [],
   "source": [
    "#@title Insert your own Credentials\n",
    "\n",
    "from clearml import Task\n",
    "\n",
    "web_server = 'https://app.clear.ml'#@param {type:\"string\"}  \n",
    "api_server = 'https://api.clear.ml'#@param {type:\"string\"} \n",
    "files_server = 'https://files.clear.ml'#@param {type:\"string\"}\n",
    "access_key = 'ILRLMK7T7VR3OGIAJJNK'#@param {type:\"string\"}\n",
    "secret_key = 'NROuvL68KS0jLhydmCJcPzjeNSFJjeyL71V5arvFS84uR4SPoz'#@param {type:\"string\"}\n",
    "\n",
    "Task.set_credentials(web_host=web_server,\n",
    "                     api_host=api_server,\n",
    "                     files_host=files_server,\n",
    "                     key=access_key,\n",
    "                     secret=secret_key\n",
    "                     )\n"
   ]
  },
  {
   "cell_type": "markdown",
   "metadata": {
    "id": "Er3HUBty4m7i"
   },
   "source": [
    "## Step 4: Run clearml-agent"
   ]
  },
  {
   "cell_type": "code",
   "execution_count": null,
   "metadata": {
    "colab": {
     "background_save": true,
     "base_uri": "https://localhost:8080/"
    },
    "execution": {
     "iopub.execute_input": "2022-10-26T11:25:35.010577Z",
     "iopub.status.busy": "2022-10-26T11:25:35.010267Z"
    },
    "id": "QcczeU7OJ9G-"
   },
   "outputs": [
    {
     "name": "stdout",
     "output_type": "stream",
     "text": [
      "Using environment access key CLEARML_API_ACCESS_KEY=ILRLMK7T7VR3OGIAJJNK\n",
      "Using environment secret key CLEARML_API_SECRET_KEY=********\n",
      "Current configuration (clearml_agent v1.4.1, location: None):\n",
      "----------------------\n",
      "agent.worker_id = \n",
      "agent.worker_name = n6uh27l4lq\n",
      "agent.force_git_ssh_protocol = false\n",
      "agent.python_binary = \n",
      "agent.package_manager.type = pip\n",
      "agent.package_manager.pip_version = <20.2\n",
      "agent.package_manager.system_site_packages = false\n",
      "agent.package_manager.force_upgrade = false\n",
      "agent.package_manager.conda_channels.0 = pytorch\n",
      "agent.package_manager.conda_channels.1 = conda-forge\n",
      "agent.package_manager.conda_channels.2 = defaults\n",
      "agent.package_manager.priority_optional_packages.0 = pygobject\n",
      "agent.package_manager.torch_nightly = false\n",
      "agent.venvs_dir = /root/.clearml/venvs-builds\n",
      "agent.venvs_cache.max_entries = 10\n",
      "agent.venvs_cache.free_space_threshold_gb = 2.0\n",
      "agent.vcs_cache.enabled = true\n",
      "agent.vcs_cache.path = /root/.clearml/vcs-cache\n",
      "agent.venv_update.enabled = false\n",
      "agent.pip_download_cache.enabled = true\n",
      "agent.pip_download_cache.path = /root/.clearml/pip-download-cache\n",
      "agent.translate_ssh = true\n",
      "agent.reload_config = false\n",
      "agent.docker_pip_cache = /root/.clearml/pip-cache\n",
      "agent.docker_apt_cache = /root/.clearml/apt-cache\n",
      "agent.docker_force_pull = false\n",
      "agent.default_docker.image = nvidia/cuda:10.2-cudnn7-runtime-ubuntu18.04\n",
      "agent.enable_task_env = false\n",
      "agent.hide_docker_command_env_vars.enabled = true\n",
      "agent.hide_docker_command_env_vars.parse_embedded_urls = true\n",
      "agent.abort_callback_max_timeout = 1800\n",
      "agent.docker_internal_mounts.sdk_cache = /clearml_agent_cache\n",
      "agent.docker_internal_mounts.apt_cache = /var/cache/apt/archives\n",
      "agent.docker_internal_mounts.ssh_folder = ~/.ssh\n",
      "agent.docker_internal_mounts.ssh_ro_folder = /.ssh\n",
      "agent.docker_internal_mounts.pip_cache = /root/.cache/pip\n",
      "agent.docker_internal_mounts.poetry_cache = /root/.cache/pypoetry\n",
      "agent.docker_internal_mounts.vcs_cache = /root/.clearml/vcs-cache\n",
      "agent.docker_internal_mounts.venv_build = ~/.clearml/venvs-builds\n",
      "agent.docker_internal_mounts.pip_download = /root/.clearml/pip-download-cache\n",
      "agent.apply_environment = true\n",
      "agent.apply_files = true\n",
      "agent.custom_build_script = \n",
      "agent.default_python = 3.9\n",
      "agent.cuda_version = 112\n",
      "agent.cudnn_version = 0\n",
      "sdk.storage.cache.default_base_dir = ~/.clearml/cache\n",
      "sdk.storage.cache.size.min_free_bytes = 10GB\n",
      "sdk.storage.direct_access.0.url = file://*\n",
      "sdk.metrics.file_history_size = 100\n",
      "sdk.metrics.matplotlib_untitled_history_size = 100\n",
      "sdk.metrics.images.format = JPEG\n",
      "sdk.metrics.images.quality = 87\n",
      "sdk.metrics.images.subsampling = 0\n",
      "sdk.metrics.tensorboard_single_series_per_graph = false\n",
      "sdk.network.metrics.file_upload_threads = 4\n",
      "sdk.network.metrics.file_upload_starvation_warning_sec = 120\n",
      "sdk.network.iteration.max_retries_on_server_error = 5\n",
      "sdk.network.iteration.retry_backoff_factor_sec = 10\n",
      "sdk.aws.s3.key = \n",
      "sdk.aws.s3.region = \n",
      "sdk.aws.boto3.pool_connections = 512\n",
      "sdk.aws.boto3.max_multipart_concurrency = 16\n",
      "sdk.log.null_log_propagate = false\n",
      "sdk.log.task_log_buffer_capacity = 66\n",
      "sdk.log.disable_urllib3_info = true\n",
      "sdk.development.task_reuse_time_window_in_hours = 72.0\n",
      "sdk.development.vcs_repo_detect_async = true\n",
      "sdk.development.store_uncommitted_code_diff = true\n",
      "sdk.development.support_stopping = true\n",
      "sdk.development.default_output_uri = \n",
      "sdk.development.force_analyze_entire_repo = false\n",
      "sdk.development.suppress_update_message = false\n",
      "sdk.development.detect_with_pip_freeze = false\n",
      "sdk.development.worker.report_period_sec = 2\n",
      "sdk.development.worker.ping_period_sec = 30\n",
      "sdk.development.worker.log_stdout = true\n",
      "sdk.development.worker.report_global_mem_used = false\n",
      "api.version = 1.5\n",
      "api.verify_certificate = true\n",
      "api.default_version = 1.5\n",
      "api.http.max_req_size = 15728640\n",
      "api.http.retries.total = 240\n",
      "api.http.retries.connect = 240\n",
      "api.http.retries.read = 240\n",
      "api.http.retries.redirect = 240\n",
      "api.http.retries.status = 240\n",
      "api.http.retries.backoff_factor = 1.0\n",
      "api.http.retries.backoff_max = 120.0\n",
      "api.http.wait_on_maintenance_forever = true\n",
      "api.http.pool_maxsize = 512\n",
      "api.http.pool_connections = 512\n",
      "api.api_server = https://api.clear.ml\n",
      "api.files_server = https://files.clear.ml\n",
      "api.web_server = https://app.clear.ml\n",
      "api.credentials.access_key = ILRLMK7T7VR3OGIAJJNK\n",
      "\n",
      "Worker \"n6uh27l4lq:gpuGPU-cd31a56c-0249-3434-d5a9-a87c33d73a5a\" - Listening to queues:\n",
      "+----------------------------------+------+-------+\n",
      "| id                               | name | tags  |\n",
      "+----------------------------------+------+-------+\n",
      "| 56f815d199624191bdacf8b236b170c1 | GPU  |       |\n",
      "+----------------------------------+------+-------+\n",
      "\n",
      "Running CLEARML-AGENT daemon in background mode, writing stdout/stderr to /tmp/.clearml_agent_daemon_outmab0fql0.txt\n"
     ]
    }
   ],
   "source": [
    "!clearml-agent daemon --queue GPU"
   ]
  }
 ],
 "metadata": {
  "accelerator": "GPU",
  "colab": {
   "collapsed_sections": [],
   "name": "",
   "version": ""
  },
  "gpuClass": "standard",
  "kernelspec": {
   "display_name": "Python 3.10.6 64-bit",
   "language": "python",
   "name": "python3"
  },
  "language_info": {
   "codemirror_mode": {
    "name": "ipython",
    "version": 3
   },
   "file_extension": ".py",
   "mimetype": "text/x-python",
   "name": "python",
   "nbconvert_exporter": "python",
   "pygments_lexer": "ipython3",
   "version": "3.10.6"
  },
  "vscode": {
   "interpreter": {
    "hash": "31f2aee4e71d21fbe5cf8b01ff0e069b9275f58929596ceb00d14d90e3e16cd6"
   }
  }
 },
 "nbformat": 4,
 "nbformat_minor": 4
}
