{
 "cells": [
  {
   "cell_type": "markdown",
   "metadata": {},
   "source": [
    "# ClearML \n",
    "It's an end-to-end MLOps management framework with tools to help in every step of the MLOps life-cycle.\n",
    "This demo showcases (briefly) four of these tools:\n",
    "- Experiment tracker.\n",
    "- Data Management.\n",
    "- Orchestration.\n",
    "- Hyperparameter optimization.\n"
   ]
  },
  {
   "cell_type": "markdown",
   "metadata": {},
   "source": [
    "### Installation:\n",
    "1) Make a ClearML account (use bitbucket to automatically sync with it).\n",
    "2) `$ pip install clearml`\n",
    "3) `$ clearml-init`\n",
    "    Copy the credentials generated during signup.\n",
    "4) (optional) Set up your S3/Blob bucket or use the 100gb free ClearML storage tier in the app."
   ]
  },
  {
   "cell_type": "markdown",
   "metadata": {},
   "source": [
    "### Experiment Tracker:\n",
    "A simple MNIST classifier:\n"
   ]
  },
  {
   "cell_type": "markdown",
   "metadata": {},
   "source": [
    "At the core of ClearML is the `Task` object. It represents an experiment and will appear in the GUI as such. "
   ]
  },
  {
   "cell_type": "code",
   "execution_count": 1,
   "metadata": {},
   "outputs": [
    {
     "name": "stdout",
     "output_type": "stream",
     "text": [
      "ClearML Task: created new task id=567a8604d6b3411eb17d114c346b3898\n",
      "2022-11-10 17:48:53,553 - clearml.Task - INFO - Storing jupyter notebook directly as code\n",
      "ClearML results page: https://app.clear.ml/projects/44d201b6aa6d414488f45075bdcb225c/experiments/567a8604d6b3411eb17d114c346b3898/output/log\n"
     ]
    }
   ],
   "source": [
    "from clearml import Task\n",
    "task = Task.init(project_name = 'ClearML-demo', task_name = \"MNIST classifier\", tags=['Notebook'], task_type='training')"
   ]
  },
  {
   "cell_type": "markdown",
   "metadata": {},
   "source": [
    "That's it. We've set up the experiment. Now everything logged into the console (except errors), git differences, Matplotlib images, Argparse arguments, Tensorboard logs will be automatically picked up by the Task.\n",
    "\n",
    "We can access the experiment ClearML GUI at: \n",
    "### app.clear.ml"
   ]
  },
  {
   "cell_type": "markdown",
   "metadata": {},
   "source": [
    "Let's set up some parameters for our net and connect them to our task."
   ]
  },
  {
   "cell_type": "code",
   "execution_count": 2,
   "metadata": {},
   "outputs": [
    {
     "data": {
      "text/plain": [
       "{'batch_size': 128, 'epochs': 3, 'hidden_dims': (512, 256), 'dropout': 0.3}"
      ]
     },
     "execution_count": 2,
     "metadata": {},
     "output_type": "execute_result"
    }
   ],
   "source": [
    "task_params = {\n",
    "    'batch_size' : 128,\n",
    "    'epochs' : 3,\n",
    "    'hidden_dims' : (512, 256),\n",
    "    'dropout' : 0.3\n",
    "}\n",
    "\n",
    "task.connect(task_params)"
   ]
  },
  {
   "cell_type": "markdown",
   "metadata": {},
   "source": [
    "Load and process the data:"
   ]
  },
  {
   "cell_type": "code",
   "execution_count": 3,
   "metadata": {},
   "outputs": [
    {
     "name": "stderr",
     "output_type": "stream",
     "text": [
      "2022-11-10 17:49:02.639740: I tensorflow/core/platform/cpu_feature_guard.cc:193] This TensorFlow binary is optimized with oneAPI Deep Neural Network Library (oneDNN) to use the following CPU instructions in performance-critical operations:  AVX2 FMA\n",
      "To enable them in other operations, rebuild TensorFlow with the appropriate compiler flags.\n"
     ]
    },
    {
     "name": "stdout",
     "output_type": "stream",
     "text": [
      "WARNING:tensorflow:Please fix your imports. Module tensorflow.python.training.tracking.util has been moved to tensorflow.python.checkpoint.checkpoint. The old module will be deleted in version 2.11.\n",
      "60000 train samples\n",
      "10000 test samples\n"
     ]
    }
   ],
   "source": [
    "from tensorflow import keras\n",
    "(X_train, y_train), (X_test, y_test) = keras.datasets.mnist.load_data()\n",
    "\n",
    "X_train = X_train.reshape(60_000, 784)\n",
    "X_test = X_test.reshape(10_000, 784)\n",
    "X_train = X_train.astype('float32')\n",
    "X_test = X_test.astype('float32')\n",
    "X_train /= 255.\n",
    "X_test /= 255.\n",
    "\n",
    "y_train = keras.utils.to_categorical(y_train, 10)\n",
    "y_test = keras.utils.to_categorical(y_test, 10)\n",
    "\n",
    "print(X_train.shape[0], 'train samples')\n",
    "print(X_test.shape[0], 'test samples')"
   ]
  },
  {
   "cell_type": "markdown",
   "metadata": {},
   "source": [
    "Some digits: The image will show up under the _debug samples_ tab in the experiment tracker."
   ]
  },
  {
   "cell_type": "code",
   "execution_count": 4,
   "metadata": {},
   "outputs": [
    {
     "data": {
      "image/png": "[encoded data removed]",
      "text/plain": [
       "<Figure size 640x480 with 9 Axes>"
      ]
     },
     "metadata": {},
     "output_type": "display_data"
    }
   ],
   "source": [
    "import matplotlib.pyplot as plt\n",
    "for i in range(9):\n",
    "    plt.subplot(3,3,1 + i)\n",
    "    plt.imshow(X_train[i].reshape(28,28), cmap=plt.get_cmap('gray'))\n",
    "\n",
    "plt.show()"
   ]
  },
  {
   "cell_type": "markdown",
   "metadata": {},
   "source": [
    "If we want to report a specific plot, scalar, series, image we can use the `Logger` object from ClearML.\n",
    "Let's report a histogram of a weighted sampling of the numbers 1-5."
   ]
  },
  {
   "cell_type": "code",
   "execution_count": 5,
   "metadata": {},
   "outputs": [],
   "source": [
    "import numpy as np\n",
    "task.logger.report_histogram(title=\"Histogram\", series=\"first\", iteration=0, \n",
    "                             values = np.random.choice(np.arange(1,6), 40, p = [0.4, 0.2, 0.2, 0.1, 0.1]))\n",
    "\n",
    "task.logger.report_histogram(title=\"Histogram\", series=\"second\", iteration=0, \n",
    "                             values = np.random.choice(np.arange(1,6), 40, p = [0.2, 0.2, 0.4, 0.1, 0.1]))"
   ]
  },
  {
   "cell_type": "markdown",
   "metadata": {},
   "source": [
    "Note the iteration keyword arguement. It allows us to log what we need inside training loops.\n",
    "\n",
    "Back to the model."
   ]
  },
  {
   "cell_type": "code",
   "execution_count": 6,
   "metadata": {},
   "outputs": [
    {
     "name": "stderr",
     "output_type": "stream",
     "text": [
      "2022-11-10 17:49:06.393467: I tensorflow/core/platform/cpu_feature_guard.cc:193] This TensorFlow binary is optimized with oneAPI Deep Neural Network Library (oneDNN) to use the following CPU instructions in performance-critical operations:  AVX2 FMA\n",
      "To enable them in other operations, rebuild TensorFlow with the appropriate compiler flags.\n"
     ]
    }
   ],
   "source": [
    "import tensorflow_addons as tfa\n",
    "from keras.layers import Input, Dense, Activation, Dropout\n",
    "\n",
    "model = keras.Sequential([Input((784,))])\n",
    "\n",
    "for h_dim in task_params['hidden_dims']:\n",
    "    model.add(Dense(h_dim))\n",
    "    model.add(Activation(tfa.activations.mish))\n",
    "    model.add(Dropout(task_params['dropout']))\n",
    "\n",
    "model.add(Dense(10))\n",
    "model.add(Activation('softmax'))\n",
    "\n"
   ]
  },
  {
   "cell_type": "code",
   "execution_count": 7,
   "metadata": {},
   "outputs": [
    {
     "name": "stdout",
     "output_type": "stream",
     "text": [
      "Model: \"sequential\"\n",
      "_________________________________________________________________\n",
      " Layer (type)                Output Shape              Param #   \n",
      "=================================================================\n",
      " dense (Dense)               (None, 512)               401920    \n",
      "                                                                 \n",
      " activation (Activation)     (None, 512)               0         \n",
      "                                                                 \n",
      " dropout (Dropout)           (None, 512)               0         \n",
      "                                                                 \n",
      " dense_1 (Dense)             (None, 256)               131328    \n",
      "                                                                 \n",
      " activation_1 (Activation)   (None, 256)               0         \n",
      "                                                                 \n",
      " dropout_1 (Dropout)         (None, 256)               0         \n",
      "                                                                 \n",
      " dense_2 (Dense)             (None, 10)                2570      \n",
      "                                                                 \n",
      " activation_2 (Activation)   (None, 10)                0         \n",
      "                                                                 \n",
      "=================================================================\n",
      "Total params: 535,818\n",
      "Trainable params: 535,818\n",
      "Non-trainable params: 0\n",
      "_________________________________________________________________\n"
     ]
    }
   ],
   "source": [
    "model.summary()"
   ]
  },
  {
   "cell_type": "markdown",
   "metadata": {},
   "source": [
    "Compile and fit the model.\n",
    "We can write some logs with tensorboard (ClearML will pick them up) and set up a model checkpoint as well."
   ]
  },
  {
   "cell_type": "code",
   "execution_count": 8,
   "metadata": {},
   "outputs": [],
   "source": [
    "import os\n",
    "import tempfile\n",
    "\n",
    "from keras.callbacks import TensorBoard, ModelCheckpoint\n",
    "\n",
    "tb_callback = TensorBoard(log_dir = tempfile.gettempdir())\n",
    "model_store = ModelCheckpoint(filepath=os.path.join(tempfile.gettempdir(), 'weight.{epoch}.hdf5'))"
   ]
  },
  {
   "cell_type": "markdown",
   "metadata": {},
   "source": [
    "While at it, let's log a confusion matrix after each epoch through a custom callback."
   ]
  },
  {
   "cell_type": "code",
   "execution_count": 9,
   "metadata": {},
   "outputs": [],
   "source": [
    "import tensorflow as tf\n",
    "import seaborn as sns\n",
    "\n",
    "class ConfMatCallback(keras.callbacks.Callback):\n",
    "    \"\"\"Plot a confusion matrix every epoch.\"\"\"\n",
    "    def __init__(self, X_test, y_test):\n",
    "        self.X_test = X_test[:1000]\n",
    "        self.y_test = y_test[:1000]\n",
    "\n",
    "    def on_epoch_end(self, epoch, logs=None):\n",
    "        pred_classes = np.argmax(self.model.predict(self.X_test),axis=1)\n",
    "        true_classes = np.argmax(self.y_test, axis=1)\n",
    "        conf_mat = tf.math.confusion_matrix(labels=true_classes, predictions=pred_classes).numpy()\n",
    "        figure = plt.figure(figsize=(10, 10))\n",
    "        plt.ioff()\n",
    "        sns.heatmap(conf_mat, annot=True, cmap=plt.cm.Blues)\n",
    "        plt.tight_layout()\n",
    "        plt.ylabel('True label')\n",
    "        plt.xlabel('Predicted label')\n",
    "        task.logger.report_matplotlib_figure(title=\"Confusion Matrix\", series = \"\", iteration=epoch, figure=plt)\n",
    "        plt.close()\n",
    "                                    \n",
    "conf_mat_callback = ConfMatCallback(X_test, y_test)"
   ]
  },
  {
   "cell_type": "code",
   "execution_count": 10,
   "metadata": {},
   "outputs": [
    {
     "name": "stderr",
     "output_type": "stream",
     "text": [
      "2022-11-10 17:49:07.150945: W tensorflow/core/framework/cpu_allocator_impl.cc:82] Allocation of 188160000 exceeds 10% of free system memory.\n"
     ]
    },
    {
     "name": "stdout",
     "output_type": "stream",
     "text": [
      "Epoch 1/3\n",
      "460/469 [============================>.] - ETA: 0s - loss: 0.2953 - accuracy: 0.91032022-11-10 17:49:11,394 - clearml.frameworks - INFO - Found existing registered model id=65c40cae26fa48d9a8dda4e11ed26f69 [/tmp/weight.1.hdf5] reusing it.\n",
      "32/32 [==============================] - 0s 2ms/step\n",
      "469/469 [==============================] - 14s 29ms/step - loss: 0.2934 - accuracy: 0.9108 - val_loss: 0.1335 - val_accuracy: 0.9595\n",
      "Epoch 2/3\n",
      "459/469 [============================>.] - ETA: 0s - loss: 0.1309 - accuracy: 0.95922022-11-10 17:49:24,588 - clearml.frameworks - INFO - Found existing registered model id=b7993b07f4e44837aca3ee8a84052948 [/tmp/weight.2.hdf5] reusing it.\n",
      "32/32 [==============================] - 0s 2ms/step\n",
      "469/469 [==============================] - 10s 22ms/step - loss: 0.1308 - accuracy: 0.9592 - val_loss: 0.0896 - val_accuracy: 0.9716\n",
      "Epoch 3/3\n",
      "459/469 [============================>.] - ETA: 0s - loss: 0.0936 - accuracy: 0.97072022-11-10 17:49:35,056 - clearml.frameworks - INFO - Found existing registered model id=88523369bb0242b1986a231dd31a601c [/tmp/weight.3.hdf5] reusing it.\n",
      "32/32 [==============================] - 0s 1ms/step\n",
      "469/469 [==============================] - 11s 22ms/step - loss: 0.0928 - accuracy: 0.9709 - val_loss: 0.0737 - val_accuracy: 0.9770\n",
      "313/313 [==============================] - 1s 2ms/step - loss: 0.0737 - accuracy: 0.9770\n"
     ]
    }
   ],
   "source": [
    "model.compile(loss='categorical_crossentropy', optimizer='adam', metrics=['accuracy'])\n",
    "\n",
    "model.fit(X_train, y_train,\n",
    "          batch_size = task_params['batch_size'], \n",
    "          epochs = task_params['epochs'],\n",
    "          callbacks = [tb_callback, model_store, conf_mat_callback],\n",
    "          validation_data = (X_test, y_test)\n",
    "          )\n",
    "\n",
    "# Evaluate the model and log the result to ClearML\n",
    "score = model.evaluate(X_test, y_test)\n",
    "task.logger.report_single_value(\"Model final score\", value=score[0])\n",
    "task.logger.report_single_value(\"Model final score\", value=score[1])"
   ]
  },
  {
   "cell_type": "markdown",
   "metadata": {},
   "source": [
    "Close the task to signal the experiment tracker to stop tracking events."
   ]
  },
  {
   "cell_type": "code",
   "execution_count": 11,
   "metadata": {},
   "outputs": [],
   "source": [
    "task.close()"
   ]
  },
  {
   "cell_type": "markdown",
   "metadata": {},
   "source": [
    "Great!  This is not all though.  Let's try something different..\n",
    "\n",
    "Let's download our data and upload it to the ClearML server."
   ]
  },
  {
   "cell_type": "code",
   "execution_count": 12,
   "metadata": {},
   "outputs": [],
   "source": [
    "os.makedirs(os.path.join(tempfile.gettempdir(), 'Data'), exist_ok=True)\n",
    "np.save(os.path.join(tempfile.gettempdir(), 'Data', 'X_train'), X_train)\n",
    "np.save(os.path.join(tempfile.gettempdir(), 'Data', 'y_train'), y_train)\n",
    "\n",
    "np.save(os.path.join(tempfile.gettempdir(), 'Data', 'X_test'), X_test)\n",
    "np.save(os.path.join(tempfile.gettempdir(), 'Data', 'y_test'), y_test)"
   ]
  },
  {
   "cell_type": "code",
   "execution_count": 13,
   "metadata": {},
   "outputs": [
    {
     "data": {
      "text/plain": [
       "['y_test.npy', 'X_test.npy', 'y_train.npy', 'X_train.npy']"
      ]
     },
     "execution_count": 13,
     "metadata": {},
     "output_type": "execute_result"
    }
   ],
   "source": [
    "data_path = os.path.join(tempfile.gettempdir(), 'Data')\n",
    "os.listdir(data_path)"
   ]
  },
  {
   "cell_type": "markdown",
   "metadata": {},
   "source": [
    "We can create a ClearML `Dataset` which is just another type of `Task` and upload the data there as a folder or an artifact."
   ]
  },
  {
   "cell_type": "code",
   "execution_count": 14,
   "metadata": {},
   "outputs": [
    {
     "name": "stdout",
     "output_type": "stream",
     "text": [
      "ClearML results page: https://app.clear.ml/projects/10dc7ee3feef4faa960f624a7609be3c/experiments/b0964808dc25444890e89399eb1fb9f7/output/log\n",
      "ClearML dataset page: https://app.clear.ml/datasets/simple/10dc7ee3feef4faa960f624a7609be3c/experiments/b0964808dc25444890e89399eb1fb9f7\n",
      "Generating SHA2 hash for 4 files\n",
      "Hash generation completed\n"
     ]
    },
    {
     "data": {
      "text/plain": [
       "4"
      ]
     },
     "execution_count": 14,
     "metadata": {},
     "output_type": "execute_result"
    }
   ],
   "source": [
    "from clearml import Dataset\n",
    "\n",
    "dataset = Dataset.create(\n",
    "    dataset_project = \"ClearML-demo\",\n",
    "    dataset_name = \"MNIST\",\n",
    "    dataset_tags = ['demo']\n",
    ")\n",
    "\n",
    "dataset.add_files(path=data_path)"
   ]
  },
  {
   "cell_type": "markdown",
   "metadata": {},
   "source": [
    "We've added the files but it hasn't done anything yet.\n",
    "\n",
    "Let's upload the and finalize the dataset so no further modifications can be made on this particular data. It allows ClearML to version the data."
   ]
  },
  {
   "cell_type": "code",
   "execution_count": 15,
   "metadata": {},
   "outputs": [
    {
     "name": "stdout",
     "output_type": "stream",
     "text": [
      "Uploading dataset changes (4 files compressed to 47.58 MiB) to https://files.clear.ml\n",
      "File compression and upload completed: total size 47.58 MiB, 1 chunk(s) stored (average size 47.58 MiB)\n",
      "2022-11-10 17:51:02,741 - clearml.Task - INFO - Waiting to finish uploads\n",
      "2022-11-10 17:51:03,474 - clearml.Task - INFO - Finished uploading\n"
     ]
    },
    {
     "data": {
      "text/plain": [
       "True"
      ]
     },
     "execution_count": 15,
     "metadata": {},
     "output_type": "execute_result"
    }
   ],
   "source": [
    "dataset.upload()\n",
    "dataset.finalize()"
   ]
  },
  {
   "cell_type": "markdown",
   "metadata": {},
   "source": [
    "We cann see our data in the server app. We can download it from there if we wish as well.\n",
    "\n",
    "But why are we doing this? ... \n",
    "\n",
    "Let's take a look at `clearml_demo.py`\n"
   ]
  }
 ],
 "metadata": {
  "kernelspec": {
   "display_name": "Python 3.9.12 ('clearml-demo')",
   "language": "python",
   "name": "python3"
  },
  "language_info": {
   "codemirror_mode": {
    "name": "ipython",
    "version": 3
   },
   "file_extension": ".py",
   "mimetype": "text/x-python",
   "name": "python",
   "nbconvert_exporter": "python",
   "pygments_lexer": "ipython3",
   "version": "3.9.12"
  },
  "orig_nbformat": 4,
  "vscode": {
   "interpreter": {
    "hash": "ef4a25d0e1ef1ba81efd961867171988a557308d931c90d79a9c7a1ad6ba5ac6"
   }
  }
 },
 "nbformat": 4,
 "nbformat_minor": 2
}
